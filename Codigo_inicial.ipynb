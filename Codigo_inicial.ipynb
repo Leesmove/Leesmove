{
 "cells": [
  {
   "cell_type": "code",
   "execution_count": 4,
   "metadata": {},
   "outputs": [
    {
     "data": {
      "text/plain": [
       "int"
      ]
     },
     "execution_count": 4,
     "metadata": {},
     "output_type": "execute_result"
    }
   ],
   "source": [
    "type(\"Hola, mundo\")\n",
    "type(17)"
   ]
  },
  {
   "cell_type": "code",
   "execution_count": 6,
   "metadata": {},
   "outputs": [
    {
     "name": "stdout",
     "output_type": "stream",
     "text": [
      "Que onda?\n",
      "17\n",
      "3.14159\n"
     ]
    }
   ],
   "source": [
    "mensaje = \"Que onda?\"\n",
    "n = 17\n",
    "pi = 3.14159\n",
    "\n",
    "print(mensaje)\n",
    "print(n)\n",
    "print(pi)"
   ]
  },
  {
   "cell_type": "code",
   "execution_count": 7,
   "metadata": {},
   "outputs": [
    {
     "data": {
      "text/plain": [
       "float"
      ]
     },
     "execution_count": 7,
     "metadata": {},
     "output_type": "execute_result"
    }
   ],
   "source": [
    "type(mensaje)\n",
    "type(n)\n",
    "type(pi)"
   ]
  },
  {
   "cell_type": "code",
   "execution_count": 8,
   "metadata": {},
   "outputs": [
    {
     "name": "stdout",
     "output_type": "stream",
     "text": [
      "1\n",
      "2\n"
     ]
    }
   ],
   "source": [
    "print(1)\n",
    "x = 2\n",
    "print(x)"
   ]
  },
  {
   "cell_type": "code",
   "execution_count": 11,
   "metadata": {},
   "outputs": [
    {
     "name": "stdout",
     "output_type": "stream",
     "text": [
      "98.33333333333333\n"
     ]
    }
   ],
   "source": [
    "minuto = 59\n",
    "print(float(minuto*100/60))"
   ]
  },
  {
   "cell_type": "code",
   "execution_count": 12,
   "metadata": {},
   "outputs": [
    {
     "name": "stdout",
     "output_type": "stream",
     "text": [
      "HelloHello\n"
     ]
    }
   ],
   "source": [
    "print(\"Hello\" * 2)"
   ]
  },
  {
   "cell_type": "code",
   "execution_count": 13,
   "metadata": {},
   "outputs": [
    {
     "ename": "NameError",
     "evalue": "name 'hora' is not defined",
     "output_type": "error",
     "traceback": [
      "\u001b[1;31m---------------------------------------------------------------------------\u001b[0m",
      "\u001b[1;31mNameError\u001b[0m                                 Traceback (most recent call last)",
      "Cell \u001b[1;32mIn[13], line 1\u001b[0m\n\u001b[1;32m----> 1\u001b[0m \u001b[38;5;28mprint\u001b[39m(\u001b[38;5;124m\"\u001b[39m\u001b[38;5;124mNúmero de minutos desded la medianoche: \u001b[39m\u001b[38;5;124m\"\u001b[39m, \u001b[43mhora\u001b[49m\u001b[38;5;241m*\u001b[39m\u001b[38;5;241m60\u001b[39m\u001b[38;5;241m+\u001b[39mminuto)\n",
      "\u001b[1;31mNameError\u001b[0m: name 'hora' is not defined"
     ]
    }
   ],
   "source": [
    "print(\"Número de minutos desded la medianoche: \", hora*60+minuto)"
   ]
  },
  {
   "cell_type": "code",
   "execution_count": 14,
   "metadata": {},
   "outputs": [
    {
     "name": "stdout",
     "output_type": "stream",
     "text": [
      "id(3): 140720726373224\n",
      "id(yanira): 140720726373224\n"
     ]
    }
   ],
   "source": [
    "# La función id toma como argumento un valor o una variable y devuelve un entero que actúa como identificador único de ese valor.\n",
    "# Esto significa que cada valor en Python tiene un identificador único asociado a su ubicación en la memoria.\n",
    "\n",
    "# Usamos la función id con el valor 3 y guardamos el resultado en una variable llamada id_3\n",
    "id_3 = id(3)\n",
    "print(\"id(3):\", id_3)  # Imprime el identificador único del valor 3\n",
    "\n",
    "# Creamos una variable llamada yanira y le asignamos el valor 3\n",
    "yanira = 3\n",
    "\n",
    "# Usamos la función id con la variable yanira y guardamos el resultado en una variable llamada id_yanira\n",
    "id_yanira = id(yanira)\n",
    "print(\"id(yanira):\", id_yanira)  # Imprime el identificador único de la variable yanira\n",
    "\n",
    "# Como podemos observar, tanto el valor 3 como la variable yanira tienen el mismo identificador único,\n",
    "# lo que significa que hacen referencia al mismo valor en la memoria del computador.\n"
   ]
  },
  {
   "cell_type": "code",
   "execution_count": 18,
   "metadata": {},
   "outputs": [
    {
     "data": {
      "text/plain": [
       "140720726373224"
      ]
     },
     "execution_count": 18,
     "metadata": {},
     "output_type": "execute_result"
    }
   ],
   "source": [
    "id(3)\n",
    "yanira = 3\n",
    "id(yanira)"
   ]
  },
  {
   "cell_type": "code",
   "execution_count": 19,
   "metadata": {},
   "outputs": [
    {
     "name": "stdout",
     "output_type": "stream",
     "text": [
      "0.9833333333333333\n"
     ]
    }
   ],
   "source": [
    "print(minuto / 60.0)"
   ]
  },
  {
   "cell_type": "code",
   "execution_count": 30,
   "metadata": {},
   "outputs": [],
   "source": [
    "def nueva_linea():\n",
    "    print()"
   ]
  },
  {
   "cell_type": "code",
   "execution_count": 31,
   "metadata": {},
   "outputs": [
    {
     "name": "stdout",
     "output_type": "stream",
     "text": [
      "Primera linea.\n",
      "\n",
      "Segunda linea.\n"
     ]
    }
   ],
   "source": [
    "print(\"Primera linea.\")\n",
    "nueva_linea()\n",
    "print(\"Segunda linea.\")"
   ]
  },
  {
   "cell_type": "code",
   "execution_count": 34,
   "metadata": {},
   "outputs": [
    {
     "name": "stdout",
     "output_type": "stream",
     "text": [
      "Primera linea.\n",
      "\n",
      "\n",
      "\n",
      "Segunda linea.\n"
     ]
    }
   ],
   "source": [
    "print (\"Primera linea.\")\n",
    "nueva_linea() \n",
    "nueva_linea() \n",
    "nueva_linea() \n",
    "print (\"Segunda linea.\")"
   ]
  },
  {
   "cell_type": "code",
   "execution_count": 36,
   "metadata": {},
   "outputs": [],
   "source": [
    "def tresLineas(): \n",
    "    nueva_linea() \n",
    "    nueva_linea() \n",
    "    nueva_linea() "
   ]
  },
  {
   "cell_type": "code",
   "execution_count": 38,
   "metadata": {},
   "outputs": [
    {
     "name": "stdout",
     "output_type": "stream",
     "text": [
      "Primera Linea.\n",
      "\n",
      "\n",
      "\n",
      "Segunda Linea.\n"
     ]
    }
   ],
   "source": [
    "print (\"Primera Linea.\") \n",
    "tresLineas() \n",
    "print (\"Segunda Linea.\")"
   ]
  },
  {
   "cell_type": "code",
   "execution_count": 42,
   "metadata": {},
   "outputs": [
    {
     "name": "stdout",
     "output_type": "stream",
     "text": [
      "Primera Linea.\n",
      "\n"
     ]
    },
    {
     "ename": "TypeError",
     "evalue": "unsupported operand type(s) for *: 'NoneType' and 'int'",
     "output_type": "error",
     "traceback": [
      "\u001b[1;31m---------------------------------------------------------------------------\u001b[0m",
      "\u001b[1;31mTypeError\u001b[0m                                 Traceback (most recent call last)",
      "Cell \u001b[1;32mIn[42], line 5\u001b[0m\n\u001b[0;32m      2\u001b[0m     linea \u001b[38;5;241m=\u001b[39m (nueva_linea() \u001b[38;5;241m*\u001b[39m \u001b[38;5;241m3\u001b[39m)\n\u001b[0;32m      4\u001b[0m \u001b[38;5;28mprint\u001b[39m (\u001b[38;5;124m\"\u001b[39m\u001b[38;5;124mPrimera Linea.\u001b[39m\u001b[38;5;124m\"\u001b[39m) \n\u001b[1;32m----> 5\u001b[0m \u001b[43mnueve_lineas\u001b[49m\u001b[43m(\u001b[49m\u001b[43m)\u001b[49m \n\u001b[0;32m      6\u001b[0m \u001b[38;5;28mprint\u001b[39m (\u001b[38;5;124m\"\u001b[39m\u001b[38;5;124mSegunda Linea.\u001b[39m\u001b[38;5;124m\"\u001b[39m)\n",
      "Cell \u001b[1;32mIn[42], line 2\u001b[0m, in \u001b[0;36mnueve_lineas\u001b[1;34m()\u001b[0m\n\u001b[0;32m      1\u001b[0m \u001b[38;5;28;01mdef\u001b[39;00m \u001b[38;5;21mnueve_lineas\u001b[39m():\n\u001b[1;32m----> 2\u001b[0m     linea \u001b[38;5;241m=\u001b[39m (\u001b[43mnueva_linea\u001b[49m\u001b[43m(\u001b[49m\u001b[43m)\u001b[49m\u001b[43m \u001b[49m\u001b[38;5;241;43m*\u001b[39;49m\u001b[43m \u001b[49m\u001b[38;5;241;43m3\u001b[39;49m)\n",
      "\u001b[1;31mTypeError\u001b[0m: unsupported operand type(s) for *: 'NoneType' and 'int'"
     ]
    }
   ],
   "source": [
    "def nueve_lineas():\n",
    "    linea = (nueva_linea() * 3)\n",
    "\n",
    "print (\"Primera Linea.\") \n",
    "nueve_lineas() \n",
    "print (\"Segunda Linea.\")"
   ]
  }
 ],
 "metadata": {
  "kernelspec": {
   "display_name": "Python 3",
   "language": "python",
   "name": "python3"
  },
  "language_info": {
   "codemirror_mode": {
    "name": "ipython",
    "version": 3
   },
   "file_extension": ".py",
   "mimetype": "text/x-python",
   "name": "python",
   "nbconvert_exporter": "python",
   "pygments_lexer": "ipython3",
   "version": "3.11.9"
  }
 },
 "nbformat": 4,
 "nbformat_minor": 2
}
